{
 "cells": [
  {
   "cell_type": "code",
   "execution_count": 5,
   "metadata": {},
   "outputs": [],
   "source": [
    "import pandas as pd\n",
    "import psycopg2\n",
    "import os\n",
    "from dotenv import load_dotenv"
   ]
  },
  {
   "cell_type": "code",
   "execution_count": 6,
   "metadata": {},
   "outputs": [],
   "source": [
    "# Retrieve variable values\n",
    "aws_rds_host = os.getenv(\"DB_HOST\")\n",
    "aws_rds_port = os.getenv(\"DB_PORT\")\n",
    "aws_rds_name = os.getenv(\"DB_NAME\")\n",
    "aws_rds_user = os.getenv(\"DB_USER\")\n",
    "aws_rds_password = os.getenv(\"DB_PASSWORD\")"
   ]
  },
  {
   "cell_type": "code",
   "execution_count": 12,
   "metadata": {},
   "outputs": [],
   "source": [
    "def connect_to_db():\n",
    "    \"\"\"Connect to the database db_name and return the connection.\"\"\"\n",
    "    return psycopg2.connect(\n",
    "            host=aws_rds_host,\n",
    "            port=aws_rds_port,\n",
    "            user=aws_rds_user,\n",
    "            password=aws_rds_password,\n",
    "            dbname=aws_rds_name\n",
    "    )"
   ]
  },
  {
   "cell_type": "code",
   "execution_count": null,
   "metadata": {},
   "outputs": [
    {
     "name": "stdout",
     "output_type": "stream",
     "text": [
      "Connexion réussie !\n"
     ]
    }
   ],
   "source": [
    "# Load variables from .env file\n",
    "load_dotenv()\n",
    "\n",
    "# Test Database connection\n",
    "def test_connection():\n",
    "    try:\n",
    "        conn = connect_to_db()\n",
    "        print(\"Connexion réussie !\")\n",
    "        conn.close()\n",
    "    \n",
    "    except Exception as e:\n",
    "        print(f\"Erreur de connexion : {e}\")\n",
    "\n",
    "\n",
    "test_connection()\n"
   ]
  },
  {
   "cell_type": "code",
   "execution_count": null,
   "metadata": {},
   "outputs": [
    {
     "name": "stdout",
     "output_type": "stream",
     "text": [
      "Table créée avec succès !\n"
     ]
    }
   ],
   "source": [
    "# Creation of the table of cities with their GPS coordinates\n",
    "def create_table_ville_gps():\n",
    "    try:\n",
    "        # Connection to the RDS base\n",
    "        conn = connect_to_db()\n",
    "        cur = conn.cursor()\n",
    "\n",
    "        cur.execute(\"\"\"\n",
    "            CREATE TABLE IF NOT EXISTS villes (\n",
    "                id SERIAL PRIMARY KEY,\n",
    "                villes TEXT NOT NULL,\n",
    "                longitude FLOAT NOT NULL,\n",
    "                latitude FLOAT NOT NULL\n",
    "            )\n",
    "        \"\"\")\n",
    "\n",
    "        conn.commit()\n",
    "        cur.close()\n",
    "        conn.close()\n",
    "        print(\"Table créée avec succès !\")\n",
    "\n",
    "    except Exception as e:\n",
    "        print(f\"Erreur lors de la création de la table : {e}\")\n",
    "\n",
    "create_table_ville_gps()"
   ]
  },
  {
   "cell_type": "code",
   "execution_count": null,
   "metadata": {},
   "outputs": [],
   "source": [
    "# Insertion of cities into the RDS database from the geolocalization.csv file\n",
    "def geo_villes():\n",
    "\n",
    "    df = pd.read_csv(\"geolocalisation.csv\", sep=\";\")\n",
    "\n",
    "    # Connection to the RDS base\n",
    "    conn = connect_to_db()\n",
    "\n",
    "    with conn.cursor() as cursor:\n",
    "        for _, row in df.iterrows():\n",
    "            cursor.execute(\"INSERT INTO villes (villes, longitude, latitude) VALUES (%s, %s, %s)\", (row['adresse'], float(row['longitude']), float(row['latitude'])))\n",
    "        \n",
    "    conn.commit()\n",
    "    conn.close()\n",
    "\n",
    "geo_villes()"
   ]
  },
  {
   "cell_type": "code",
   "execution_count": null,
   "metadata": {},
   "outputs": [
    {
     "name": "stdout",
     "output_type": "stream",
     "text": [
      "Table créée avec succès !\n"
     ]
    }
   ],
   "source": [
    "# creation of the hotels table\n",
    "def create_table_hotel():\n",
    "    try:\n",
    "        # Connection to the RDS base\n",
    "        conn = connect_to_db()\n",
    "        cur = conn.cursor()\n",
    "        \n",
    "        cur.execute(\"\"\"\n",
    "            CREATE TABLE IF NOT EXISTS hotels (\n",
    "                id SERIAL PRIMARY KEY,\n",
    "                villes TEXT NOT NULL,\n",
    "                Nom_hotel TEXT NOT NULL,\n",
    "                Note TEXT NOT NULL,\n",
    "                URL TEXT NOT NULL,\n",
    "                Description TEXT NOT NULL\n",
    "            )\n",
    "        \"\"\")\n",
    "\n",
    "        conn.commit()\n",
    "        cur.close()\n",
    "        conn.close()\n",
    "        print(\"Table créée avec succès !\")\n",
    "\n",
    "    except Exception as e:\n",
    "        print(f\"Erreur lors de la création de la table : {e}\")\n",
    "\n",
    "create_table_hotel()"
   ]
  },
  {
   "cell_type": "code",
   "execution_count": null,
   "metadata": {},
   "outputs": [],
   "source": [
    "# inserting data into the hotels table from the hotels.csv file\n",
    "def insert_hotel():\n",
    "    df = pd.read_csv(\"hotels.csv\", sep=\";\")\n",
    "\n",
    "    # Connection to the RDS base\n",
    "    conn = connect_to_db()\n",
    "    \n",
    "    with conn.cursor() as cursor:\n",
    "        for _, row in df.iterrows():\n",
    "            cursor.execute(\"INSERT INTO hotels (villes, Nom_hotel, Note, URL, Description) VALUES (%s, %s, %s, %s, %s)\", (row['villes'], row['Nom hotel'], row['Note'], row['URL'], row['Description']))\n",
    "        \n",
    "    conn.commit()\n",
    "    conn.close()\n",
    "\n",
    "insert_hotel()"
   ]
  }
 ],
 "metadata": {
  "kernelspec": {
   "display_name": "Python 3",
   "language": "python",
   "name": "python3"
  },
  "language_info": {
   "codemirror_mode": {
    "name": "ipython",
    "version": 3
   },
   "file_extension": ".py",
   "mimetype": "text/x-python",
   "name": "python",
   "nbconvert_exporter": "python",
   "pygments_lexer": "ipython3",
   "version": "3.12.4"
  }
 },
 "nbformat": 4,
 "nbformat_minor": 2
}
