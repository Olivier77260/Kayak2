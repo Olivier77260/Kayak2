{
 "cells": [
  {
   "cell_type": "code",
   "execution_count": 3,
   "metadata": {},
   "outputs": [],
   "source": [
    "import boto3\n",
    "import pandas as pd\n",
    "import psycopg2\n",
    "import os\n",
    "from dotenv import load_dotenv"
   ]
  },
  {
   "cell_type": "code",
   "execution_count": 15,
   "metadata": {},
   "outputs": [],
   "source": [
    "bucket_name = \"kayak-final-projet\"  # Remplace avec ton bucket S3\n",
    "file_name = \"geolocalisation.csv\"  # Le fichier local\n",
    "s3_key = file_name # Chemin dans S3 (optionnel)"
   ]
  },
  {
   "cell_type": "code",
   "execution_count": 12,
   "metadata": {},
   "outputs": [],
   "source": [
    "# Charger les variables du fichier .env\n",
    "load_dotenv()\n",
    "\n",
    "# Récupérer les valeurs des variables\n",
    "aws_access_key = os.getenv(\"AWS_ACCESS_KEY_ID\")\n",
    "aws_secret_key = os.getenv(\"AWS_SECRET_ACCESS_KEY\")\n",
    "aws_region = os.getenv(\"AWS_DEFAULT_REGION\")\n",
    "aws_bd_password = os.getenv(\"DB_PASSWORD\")\n",
    "\n",
    "# Initialiser le client Boto3 avec les credentials\n",
    "s3_client = boto3.client(\n",
    "    \"s3\",\n",
    "    aws_access_key_id=aws_access_key,\n",
    "    aws_secret_access_key=aws_secret_key,\n",
    "    region_name=aws_region,\n",
    ")"
   ]
  },
  {
   "cell_type": "code",
   "execution_count": 7,
   "metadata": {},
   "outputs": [
    {
     "name": "stdout",
     "output_type": "stream",
     "text": [
      "Connexion réussie !\n"
     ]
    }
   ],
   "source": [
    "\n",
    "# Remplace ces valeurs par les tiennes\n",
    "DB_HOST = \"kayak.clwqcisew0ya.eu-west-3.rds.amazonaws.com\"\n",
    "DB_PORT = 5432  # 3306 pour MySQL, 5432 pour PostgreSQL\n",
    "DB_NAME = \"postgres\"\n",
    "DB_USER = \"postgres\"\n",
    "\n",
    "def test_connection():\n",
    "    try:\n",
    "        conn = psycopg2.connect(\n",
    "                host=DB_HOST,\n",
    "                port=DB_PORT,\n",
    "                user=DB_USER,\n",
    "                password=\"Wailou2825!\",\n",
    "                dbname=DB_NAME\n",
    "            )        \n",
    "        print(\"Connexion réussie !\")\n",
    "        conn.close()\n",
    "    \n",
    "    except Exception as e:\n",
    "        print(f\"Erreur de connexion : {e}\")\n",
    "\n",
    "if __name__ == \"__main__\":\n",
    "    test_connection()\n"
   ]
  },
  {
   "cell_type": "code",
   "execution_count": 8,
   "metadata": {},
   "outputs": [
    {
     "name": "stdout",
     "output_type": "stream",
     "text": [
      "Table créée avec succès !\n"
     ]
    }
   ],
   "source": [
    "def create_table():\n",
    "    try:\n",
    "        conn = psycopg2.connect(\n",
    "                host=DB_HOST,\n",
    "                port=DB_PORT,\n",
    "                user=DB_USER,\n",
    "                password=\"Wailou2825!\",\n",
    "                dbname=DB_NAME\n",
    "            ) \n",
    "        cur = conn.cursor()\n",
    "\n",
    "        cur.execute(\"\"\"\n",
    "            CREATE TABLE IF NOT EXISTS villes (\n",
    "                id SERIAL PRIMARY KEY,\n",
    "                villes TEXT NOT NULL,\n",
    "                longitude FLOAT NOT NULL,\n",
    "                latitude FLOAT NOT NULL\n",
    "            )\n",
    "        \"\"\")\n",
    "\n",
    "        conn.commit()\n",
    "        cur.close()\n",
    "        conn.close()\n",
    "        print(\"Table créée avec succès !\")\n",
    "\n",
    "    except Exception as e:\n",
    "        print(f\"Erreur lors de la création de la table : {e}\")\n",
    "\n",
    "create_table()"
   ]
  },
  {
   "cell_type": "code",
   "execution_count": 9,
   "metadata": {},
   "outputs": [],
   "source": [
    "def lambda_handler():\n",
    "    \n",
    "    # Télécharger le fichier depuis S3\n",
    "    # obj = s3_client.get_object(Bucket=bucket, Key=key)\n",
    "    df = pd.read_csv(\"geolocalisation.csv\", sep=\";\")\n",
    "\n",
    "    # Connexion à la base RDS\n",
    "    conn = psycopg2.connect(\n",
    "            host=DB_HOST,\n",
    "            port=DB_PORT,\n",
    "            user=DB_USER,\n",
    "            password=\"Wailou2825!\",\n",
    "            dbname=DB_NAME\n",
    "        ) \n",
    "\n",
    "    with conn.cursor() as cursor:\n",
    "        for _, row in df.iterrows():\n",
    "            cursor.execute(\"INSERT INTO villes (villes, longitude, latitude) VALUES (%s, %s, %s)\", (row['adresse'], float(row['longitude']), float(row['latitude'])))\n",
    "        \n",
    "    conn.commit()\n",
    "    conn.close()\n"
   ]
  },
  {
   "cell_type": "code",
   "execution_count": 10,
   "metadata": {},
   "outputs": [],
   "source": [
    "lambda_handler()"
   ]
  }
 ],
 "metadata": {
  "kernelspec": {
   "display_name": "Python 3",
   "language": "python",
   "name": "python3"
  },
  "language_info": {
   "codemirror_mode": {
    "name": "ipython",
    "version": 3
   },
   "file_extension": ".py",
   "mimetype": "text/x-python",
   "name": "python",
   "nbconvert_exporter": "python",
   "pygments_lexer": "ipython3",
   "version": "3.13.1"
  }
 },
 "nbformat": 4,
 "nbformat_minor": 2
}
