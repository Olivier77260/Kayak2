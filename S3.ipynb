import boto3

# Définir les paramètres
s3_client = boto3.client("s3")  # Créer un client S3
bucket_name = "kayak-final-projet"  # Remplace avec ton bucket S3
file_name = "geolocalisation.csv"  # Le fichier local

try:
    s3_client.upload_file(file_name, bucket_name, s3_key)
    print(f"✅ Upload réussi : s3://{bucket_name}/{s3_key}")
except Exception as e:
    print(f"❌ Erreur lors de l'upload : {e}")

response = s3_client.list_objects_v2(Bucket=bucket_name)
for obj in response.get("Contents", []):
    print(obj["Key"])
