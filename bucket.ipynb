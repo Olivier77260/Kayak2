{
 "cells": [
  {
   "cell_type": "code",
   "execution_count": 1,
   "metadata": {},
   "outputs": [],
   "source": [
    "import boto3\n",
    "import os\n",
    "from dotenv import load_dotenv"
   ]
  },
  {
   "cell_type": "code",
   "execution_count": null,
   "metadata": {},
   "outputs": [],
   "source": [
    "# Set settings\n",
    "bucket_name = \"kayak-final-projet\"\n",
    "file_name1 = \"geolocalisation.csv\"\n",
    "s3_key = file_name1"
   ]
  },
  {
   "cell_type": "code",
   "execution_count": null,
   "metadata": {},
   "outputs": [
    {
     "name": "stdout",
     "output_type": "stream",
     "text": [
      "kayak-final-projet\n"
     ]
    }
   ],
   "source": [
    "# Load variables from .env file\n",
    "load_dotenv()\n",
    "\n",
    "# Retrieve variable values\n",
    "aws_access_key = os.getenv(\"AWS_ACCESS_KEY_ID\")\n",
    "aws_secret_key = os.getenv(\"AWS_SECRET_ACCESS_KEY\")\n",
    "aws_region = os.getenv(\"AWS_DEFAULT_REGION\")\n",
    "\n",
    "# Initialize the Boto3 client with credentials\n",
    "s3_client = boto3.client(\n",
    "    \"s3\",\n",
    "    aws_access_key_id=aws_access_key,\n",
    "    aws_secret_access_key=aws_secret_key,\n",
    "    region_name=aws_region,\n",
    ")\n",
    "\n",
    "# Check access to S3\n",
    "buckets = s3_client.list_buckets()\n",
    "for bucket in buckets[\"Buckets\"]:\n",
    "    print(bucket[\"Name\"])\n"
   ]
  },
  {
   "cell_type": "code",
   "execution_count": null,
   "metadata": {},
   "outputs": [
    {
     "name": "stdout",
     "output_type": "stream",
     "text": [
      "✅ Upload réussi : s3://kayak-final-projet\n",
      "geolocalisation.csv\n"
     ]
    }
   ],
   "source": [
    "# loading the geolocalisation.csv file on the s3\n",
    "try:\n",
    "    s3_client.upload_file(file_name1, bucket_name, s3_key)\n",
    "    print(f\"✅ Upload réussi : s3://{bucket_name}\")\n",
    "except Exception as e:\n",
    "    print(f\"❌ Erreur lors de l'upload : {e}\")\n",
    "\n",
    "response = s3_client.list_objects_v2(Bucket=bucket_name)\n",
    "for obj in response.get(\"Contents\", []):\n",
    "    print(obj[\"Key\"])"
   ]
  },
  {
   "cell_type": "code",
   "execution_count": null,
   "metadata": {},
   "outputs": [],
   "source": [
    "file_name2 = \"hotels.csv\"\n",
    "s3_key = file_name2"
   ]
  },
  {
   "cell_type": "code",
   "execution_count": null,
   "metadata": {},
   "outputs": [
    {
     "name": "stdout",
     "output_type": "stream",
     "text": [
      "✅ Upload réussi : s3://kayak-final-projet\n",
      "geolocalisation.csv\n",
      "hotels.csv\n"
     ]
    }
   ],
   "source": [
    "# loading the hotels.csv file on the s3\n",
    "try:\n",
    "    s3_client.upload_file(file_name2, bucket_name, s3_key)\n",
    "    print(f\"✅ Upload réussi : s3://{bucket_name}\")\n",
    "except Exception as e:\n",
    "    print(f\"❌ Erreur lors de l'upload : {e}\")\n",
    "\n",
    "response = s3_client.list_objects_v2(Bucket=bucket_name)\n",
    "for obj in response.get(\"Contents\", []):\n",
    "    print(obj[\"Key\"])"
   ]
  }
 ],
 "metadata": {
  "kernelspec": {
   "display_name": "Python 3",
   "language": "python",
   "name": "python3"
  },
  "language_info": {
   "codemirror_mode": {
    "name": "ipython",
    "version": 3
   },
   "file_extension": ".py",
   "mimetype": "text/x-python",
   "name": "python",
   "nbconvert_exporter": "python",
   "pygments_lexer": "ipython3",
   "version": "3.12.4"
  }
 },
 "nbformat": 4,
 "nbformat_minor": 2
}
