{
 "cells": [
  {
   "cell_type": "code",
   "execution_count": 4,
   "metadata": {},
   "outputs": [],
   "source": [
    "import boto3\n",
    "import os\n",
    "from dotenv import load_dotenv"
   ]
  },
  {
   "cell_type": "code",
   "execution_count": 14,
   "metadata": {},
   "outputs": [],
   "source": [
    "# Définir les paramètres\n",
    "s3_client = boto3.client(\"s3\")  # Créer un client S3\n",
    "bucket_name = \"kayak-final-projet\"  # Remplace avec ton bucket S3\n",
    "file_name = \"geolocalisation.csv\"  # Le fichier local\n",
    "s3_key = file_name # Chemin dans S3 (optionnel)"
   ]
  },
  {
   "cell_type": "code",
   "execution_count": 7,
   "metadata": {},
   "outputs": [
    {
     "name": "stdout",
     "output_type": "stream",
     "text": [
      "airflow-bucket-jedha\n",
      "kayak-final-projet\n",
      "projet-final-jedha\n"
     ]
    }
   ],
   "source": [
    "# Charger les variables du fichier .env\n",
    "load_dotenv()\n",
    "\n",
    "# Récupérer les valeurs des variables\n",
    "aws_access_key = os.getenv(\"AWS_ACCESS_KEY_ID\")\n",
    "aws_secret_key = os.getenv(\"AWS_SECRET_ACCESS_KEY\")\n",
    "aws_region = os.getenv(\"AWS_DEFAULT_REGION\")\n",
    "\n",
    "# Initialiser le client Boto3 avec les credentials\n",
    "s3_client = boto3.client(\n",
    "    \"s3\",\n",
    "    aws_access_key_id=aws_access_key,\n",
    "    aws_secret_access_key=aws_secret_key,\n",
    "    region_name=aws_region,\n",
    ")\n",
    "\n",
    "# Vérifier l'accès à S3\n",
    "buckets = s3_client.list_buckets()\n",
    "for bucket in buckets[\"Buckets\"]:\n",
    "    print(bucket[\"Name\"])\n"
   ]
  },
  {
   "cell_type": "code",
   "execution_count": 17,
   "metadata": {},
   "outputs": [
    {
     "name": "stdout",
     "output_type": "stream",
     "text": [
      "✅ Upload réussi : s3://kayak-final-projet\n",
      "geolocalisation.csv\n"
     ]
    }
   ],
   "source": [
    "try:\n",
    "    s3_client.upload_file(file_name, bucket_name, s3_key)\n",
    "    print(f\"✅ Upload réussi : s3://{bucket_name}\")\n",
    "except Exception as e:\n",
    "    print(f\"❌ Erreur lors de l'upload : {e}\")\n",
    "\n",
    "response = s3_client.list_objects_v2(Bucket=bucket_name)\n",
    "for obj in response.get(\"Contents\", []):\n",
    "    print(obj[\"Key\"])"
   ]
  }
 ],
 "metadata": {
  "kernelspec": {
   "display_name": "Python 3",
   "language": "python",
   "name": "python3"
  },
  "language_info": {
   "codemirror_mode": {
    "name": "ipython",
    "version": 3
   },
   "file_extension": ".py",
   "mimetype": "text/x-python",
   "name": "python",
   "nbconvert_exporter": "python",
   "pygments_lexer": "ipython3",
   "version": "3.11.9"
  }
 },
 "nbformat": 4,
 "nbformat_minor": 2
}
