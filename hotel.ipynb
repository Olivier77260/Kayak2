{
 "cells": [
  {
   "cell_type": "code",
   "execution_count": null,
   "metadata": {},
   "outputs": [],
   "source": [
    "import pandas as pd"
   ]
  },
  {
   "cell_type": "code",
   "execution_count": 111,
   "metadata": {},
   "outputs": [],
   "source": [
    "villes_hotel = [\"Mont Saint Michel\",\n",
    "\"Saint Malo\",\n",
    "\"Bayeux\",\n",
    "\"Le Havre\",\n",
    "\"Rouen\",\n",
    "\"Paris\",\n",
    "\"Amiens\",\n",
    "\"Lille\",\n",
    "\"Strasbourg\",\n",
    "\"Chateau du Haut Koenigsbourg\",\n",
    "\"Colmar\",\n",
    "\"Eguisheim\",\n",
    "\"Besancon\",\n",
    "\"Dijon\",\n",
    "\"Annecy\",\n",
    "\"Grenoble\",\n",
    "\"Lyon\",\n",
    "\"Gorges du Verdon\",\n",
    "\"Bormes les Mimosas\",\n",
    "\"Cassis\",\n",
    "\"Marseille\",\n",
    "\"Aix en Provence\",\n",
    "\"Avignon\",\n",
    "\"Uzes\",\n",
    "\"Nimes\",\n",
    "\"Aigues Mortes\",\n",
    "\"Saintes Maries de la mer\",\n",
    "\"Collioure\",\n",
    "\"Carcassonne\",\n",
    "\"Ariege\",\n",
    "\"Toulouse\",\n",
    "\"Montauban\",\n",
    "\"Biarritz\",\n",
    "\"Bayonne\",\n",
    "\"La Rochelle\"]"
   ]
  },
  {
   "cell_type": "code",
   "execution_count": 115,
   "metadata": {},
   "outputs": [],
   "source": [
    "listing_hotels = pd.DataFrame(columns=[\"villes\", \"Nom hotel\", \"Note\", \"URL\", \"Description\"])"
   ]
  },
  {
   "cell_type": "code",
   "execution_count": null,
   "metadata": {},
   "outputs": [
    {
     "name": "stdout",
     "output_type": "stream",
     "text": [
      "ville_Mont Saint Michel.json\n",
      "ville_Saint Malo.json\n",
      "ville_Bayeux.json\n",
      "ville_Le Havre.json\n",
      "ville_Rouen.json\n",
      "ville_Paris.json\n",
      "ville_Amiens.json\n",
      "ville_Lille.json\n",
      "ville_Strasbourg.json\n",
      "ville_Chateau du Haut Koenigsbourg.json\n",
      "ville_Colmar.json\n",
      "ville_Eguisheim.json\n",
      "ville_Besancon.json\n",
      "ville_Dijon.json\n",
      "ville_Annecy.json\n",
      "ville_Grenoble.json\n",
      "ville_Lyon.json\n",
      "ville_Gorges du Verdon.json\n",
      "ville_Bormes les Mimosas.json\n",
      "ville_Cassis.json\n",
      "ville_Marseille.json\n",
      "ville_Aix en Provence.json\n",
      "ville_Avignon.json\n",
      "ville_Uzes.json\n",
      "ville_Nimes.json\n",
      "ville_Aigues Mortes.json\n",
      "ville_Saintes Maries de la mer.json\n",
      "ville_Collioure.json\n",
      "ville_Carcassonne.json\n",
      "ville_Ariege.json\n",
      "ville_Toulouse.json\n",
      "ville_Montauban.json\n",
      "ville_Biarritz.json\n",
      "ville_Bayonne.json\n",
      "ville_La Rochelle.json\n"
     ]
    }
   ],
   "source": [
    "a = 0\n",
    "for ville in villes_hotel:\n",
    "    filename = f\"ville_{ville}.json\"\n",
    "    print(filename)\n",
    "    hotel = pd.read_json(f\"hotel/{filename}\")\n",
    "    for b in range(len(hotel)):\n",
    "        listing_hotels.loc[a] = [ville, hotel['Nom hotel'][b], hotel['Note'][b], hotel['URL'][b], hotel['Description'][b]]\n",
    "        a+=1"
   ]
  },
  {
   "cell_type": "code",
   "execution_count": 118,
   "metadata": {},
   "outputs": [
    {
     "data": {
      "text/plain": [
       "(787, 5)"
      ]
     },
     "execution_count": 118,
     "metadata": {},
     "output_type": "execute_result"
    }
   ],
   "source": [
    "listing_hotels.shape"
   ]
  },
  {
   "cell_type": "code",
   "execution_count": 119,
   "metadata": {},
   "outputs": [],
   "source": [
    "listing_hotels.to_csv(rf'hotels.csv', index=False, sep=';', encoding='utf-8')"
   ]
  }
 ],
 "metadata": {
  "kernelspec": {
   "display_name": "Python 3",
   "language": "python",
   "name": "python3"
  },
  "language_info": {
   "codemirror_mode": {
    "name": "ipython",
    "version": 3
   },
   "file_extension": ".py",
   "mimetype": "text/x-python",
   "name": "python",
   "nbconvert_exporter": "python",
   "pygments_lexer": "ipython3",
   "version": "3.11.9"
  }
 },
 "nbformat": 4,
 "nbformat_minor": 2
}
