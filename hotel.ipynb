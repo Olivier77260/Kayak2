{
 "cells": [
  {
   "cell_type": "code",
   "execution_count": 9,
   "metadata": {},
   "outputs": [],
   "source": [
    "import pandas as pd\n",
    "import json\n",
    "import json5"
   ]
  },
  {
   "cell_type": "code",
   "execution_count": 41,
   "metadata": {},
   "outputs": [],
   "source": [
    "villes_hotel = [\"Mont Saint Michel\",\n",
    "\"Saint Malo\",\n",
    "\"Bayeux\",\n",
    "\"Le Havre\",\n",
    "\"Rouen\",\n",
    "\"Paris\",\n",
    "\"Amiens\",\n",
    "\"Lille\",\n",
    "\"Strasbourg\",\n",
    "\"Chateau du Haut Koenigsbourg\",\n",
    "\"Colmar\",\n",
    "\"Eguisheim\",\n",
    "\"Besancon\",\n",
    "\"Dijon\",\n",
    "\"Annecy\",\n",
    "\"Grenoble\",\n",
    "\"Lyon\",\n",
    "\"Gorges du Verdon\",\n",
    "\"Bormes les Mimosas\",\n",
    "\"Cassis\",\n",
    "\"Marseille\",\n",
    "\"Aix en Provence\",\n",
    "\"Avignon\",\n",
    "\"Uzes\",\n",
    "\"Nimes\",\n",
    "\"Aigues Mortes\",\n",
    "\"Saintes Maries de la mer\",\n",
    "\"Collioure\",\n",
    "\"Carcassonne\",\n",
    "\"Ariege\",\n",
    "\"Toulouse\",\n",
    "\"Montauban\",\n",
    "\"Biarritz\",\n",
    "\"Bayonne\",\n",
    "\"La Rochelle\"]"
   ]
  },
  {
   "cell_type": "code",
   "execution_count": 42,
   "metadata": {},
   "outputs": [],
   "source": [
    "listing_hotels = pd.DataFrame(columns=[\"villes\", \"Nom hotel\", \"Note\", \"URL\", \"Description\"])"
   ]
  },
  {
   "cell_type": "code",
   "execution_count": 43,
   "metadata": {},
   "outputs": [],
   "source": [
    "# Checking json files\n",
    "def fix_json_file(file_path):\n",
    "    try:\n",
    "        # Reading the file, even if it contains minor errors\n",
    "        with open(file_path, 'r', encoding='utf-8') as f:\n",
    "            content = f.read().strip()\n",
    "\n",
    "        # Attempt to automatically correct common errors\n",
    "        if content and (content[-1] not in [']', '}']):\n",
    "            print(\"⚠️ Fin de fichier JSON manquante, tentative de correction...\")\n",
    "            if content.count('{') > content.count('}'):\n",
    "                content += '}'\n",
    "            elif content.count('[') > content.count(']'):\n",
    "                content += ']'\n",
    "\n",
    "        # Loading JSON with json5 to tolerate some errors\n",
    "        data = json5.loads(content)\n",
    "\n",
    "        # Rewrite the file with proper indentation\n",
    "        with open(file_path, 'w', encoding='utf-8') as f:\n",
    "            json.dump(data, f, indent=4, ensure_ascii=False)\n",
    "\n",
    "        print(f\"✅ Le fichier JSON '{file_path}' a été corrigé et formaté !\")\n",
    "\n",
    "    except json.JSONDecodeError as e:\n",
    "        print(f\"❌ Erreur JSON critique : {e}\")\n",
    "    except Exception as e:\n",
    "        print(f\"❌ Autre erreur : {e}\")"
   ]
  },
  {
   "cell_type": "markdown",
   "metadata": {},
   "source": [
    "We retrieve the data for each city in the json files to put them in a dataframe."
   ]
  },
  {
   "cell_type": "code",
   "execution_count": 47,
   "metadata": {},
   "outputs": [
    {
     "name": "stdout",
     "output_type": "stream",
     "text": [
      "✅ Le fichier JSON 'hotel/ville_Mont Saint Michel.json' a été corrigé et formaté !\n",
      "hotel/ville_Mont Saint Michel.json\n",
      "✅ Le fichier JSON 'hotel/ville_Saint Malo.json' a été corrigé et formaté !\n",
      "hotel/ville_Saint Malo.json\n",
      "✅ Le fichier JSON 'hotel/ville_Bayeux.json' a été corrigé et formaté !\n",
      "hotel/ville_Bayeux.json\n",
      "✅ Le fichier JSON 'hotel/ville_Le Havre.json' a été corrigé et formaté !\n",
      "hotel/ville_Le Havre.json\n",
      "✅ Le fichier JSON 'hotel/ville_Rouen.json' a été corrigé et formaté !\n",
      "hotel/ville_Rouen.json\n",
      "✅ Le fichier JSON 'hotel/ville_Paris.json' a été corrigé et formaté !\n",
      "hotel/ville_Paris.json\n",
      "✅ Le fichier JSON 'hotel/ville_Amiens.json' a été corrigé et formaté !\n",
      "hotel/ville_Amiens.json\n",
      "✅ Le fichier JSON 'hotel/ville_Lille.json' a été corrigé et formaté !\n",
      "hotel/ville_Lille.json\n",
      "✅ Le fichier JSON 'hotel/ville_Strasbourg.json' a été corrigé et formaté !\n",
      "hotel/ville_Strasbourg.json\n",
      "✅ Le fichier JSON 'hotel/ville_Chateau du Haut Koenigsbourg.json' a été corrigé et formaté !\n",
      "hotel/ville_Chateau du Haut Koenigsbourg.json\n",
      "✅ Le fichier JSON 'hotel/ville_Colmar.json' a été corrigé et formaté !\n",
      "hotel/ville_Colmar.json\n",
      "✅ Le fichier JSON 'hotel/ville_Eguisheim.json' a été corrigé et formaté !\n",
      "hotel/ville_Eguisheim.json\n",
      "✅ Le fichier JSON 'hotel/ville_Besancon.json' a été corrigé et formaté !\n",
      "hotel/ville_Besancon.json\n",
      "⚠️ Fin de fichier JSON manquante, tentative de correction...\n",
      "✅ Le fichier JSON 'hotel/ville_Dijon.json' a été corrigé et formaté !\n",
      "hotel/ville_Dijon.json\n",
      "✅ Le fichier JSON 'hotel/ville_Annecy.json' a été corrigé et formaté !\n",
      "hotel/ville_Annecy.json\n",
      "✅ Le fichier JSON 'hotel/ville_Grenoble.json' a été corrigé et formaté !\n",
      "hotel/ville_Grenoble.json\n",
      "✅ Le fichier JSON 'hotel/ville_Lyon.json' a été corrigé et formaté !\n",
      "hotel/ville_Lyon.json\n",
      "✅ Le fichier JSON 'hotel/ville_Gorges du Verdon.json' a été corrigé et formaté !\n",
      "hotel/ville_Gorges du Verdon.json\n",
      "✅ Le fichier JSON 'hotel/ville_Bormes les Mimosas.json' a été corrigé et formaté !\n",
      "hotel/ville_Bormes les Mimosas.json\n",
      "✅ Le fichier JSON 'hotel/ville_Cassis.json' a été corrigé et formaté !\n",
      "hotel/ville_Cassis.json\n",
      "✅ Le fichier JSON 'hotel/ville_Marseille.json' a été corrigé et formaté !\n",
      "hotel/ville_Marseille.json\n",
      "✅ Le fichier JSON 'hotel/ville_Aix en Provence.json' a été corrigé et formaté !\n",
      "hotel/ville_Aix en Provence.json\n",
      "✅ Le fichier JSON 'hotel/ville_Avignon.json' a été corrigé et formaté !\n",
      "hotel/ville_Avignon.json\n",
      "✅ Le fichier JSON 'hotel/ville_Uzes.json' a été corrigé et formaté !\n",
      "hotel/ville_Uzes.json\n",
      "✅ Le fichier JSON 'hotel/ville_Nimes.json' a été corrigé et formaté !\n",
      "hotel/ville_Nimes.json\n",
      "✅ Le fichier JSON 'hotel/ville_Aigues Mortes.json' a été corrigé et formaté !\n",
      "hotel/ville_Aigues Mortes.json\n",
      "✅ Le fichier JSON 'hotel/ville_Saintes Maries de la mer.json' a été corrigé et formaté !\n",
      "hotel/ville_Saintes Maries de la mer.json\n",
      "✅ Le fichier JSON 'hotel/ville_Collioure.json' a été corrigé et formaté !\n",
      "hotel/ville_Collioure.json\n",
      "✅ Le fichier JSON 'hotel/ville_Carcassonne.json' a été corrigé et formaté !\n",
      "hotel/ville_Carcassonne.json\n",
      "✅ Le fichier JSON 'hotel/ville_Ariege.json' a été corrigé et formaté !\n",
      "hotel/ville_Ariege.json\n",
      "✅ Le fichier JSON 'hotel/ville_Toulouse.json' a été corrigé et formaté !\n",
      "hotel/ville_Toulouse.json\n",
      "✅ Le fichier JSON 'hotel/ville_Montauban.json' a été corrigé et formaté !\n",
      "hotel/ville_Montauban.json\n",
      "✅ Le fichier JSON 'hotel/ville_Biarritz.json' a été corrigé et formaté !\n",
      "hotel/ville_Biarritz.json\n",
      "✅ Le fichier JSON 'hotel/ville_Bayonne.json' a été corrigé et formaté !\n",
      "hotel/ville_Bayonne.json\n",
      "✅ Le fichier JSON 'hotel/ville_La Rochelle.json' a été corrigé et formaté !\n",
      "hotel/ville_La Rochelle.json\n"
     ]
    }
   ],
   "source": [
    "a = 0\n",
    "for ville in villes_hotel:\n",
    "    filename = f\"hotel/ville_{ville}.json\"\n",
    "    fix_json_file(filename)\n",
    "    print(filename)\n",
    "    hotel = pd.read_json(filename)\n",
    "    for b in range(len(hotel)):\n",
    "        listing_hotels.loc[a] = [ville, hotel['Nom hotel'][b], hotel['Note'][b], hotel['URL'][b], hotel['Description'][b]]\n",
    "        a+=1"
   ]
  },
  {
   "cell_type": "code",
   "execution_count": 48,
   "metadata": {},
   "outputs": [
    {
     "data": {
      "text/plain": [
       "(787, 5)"
      ]
     },
     "execution_count": 48,
     "metadata": {},
     "output_type": "execute_result"
    }
   ],
   "source": [
    "listing_hotels.shape"
   ]
  },
  {
   "cell_type": "code",
   "execution_count": 49,
   "metadata": {},
   "outputs": [
    {
     "data": {
      "application/vnd.microsoft.datawrangler.viewer.v0+json": {
       "columns": [
        {
         "name": "index",
         "rawType": "int64",
         "type": "integer"
        },
        {
         "name": "villes",
         "rawType": "object",
         "type": "string"
        },
        {
         "name": "Nom hotel",
         "rawType": "object",
         "type": "string"
        },
        {
         "name": "Note",
         "rawType": "object",
         "type": "string"
        },
        {
         "name": "URL",
         "rawType": "object",
         "type": "string"
        },
        {
         "name": "Description",
         "rawType": "object",
         "type": "string"
        }
       ],
       "conversionMethod": "pd.DataFrame",
       "ref": "902802a5-1231-4f5c-b04a-4bd8a24a56b5",
       "rows": [
        [
         "0",
         "Mont Saint Michel",
         "Hôtel Vert",
         "Avec une note de 8",
         "https://www.booking.com/hotel/fr/vert.fr.html?aid=304142&label=gen173bo-1DCAQoggJCGHNlYXJjaF9tb250IHNhaW50IG1pY2hlbEgNWANoTYgBAZgBDbgBF8gBDNgBA-gBAfgBA4gCAZgCAqgCA7gCl_m0uAbAAgHSAiRiNmY4ZjNkNC1hOTBmLTQzNDMtYjI1Ni00ZjQ0ZmQ5MDY1YWLYAgTgAgE&ucfs=1&arphpl=1&group_adults=2&req_adults=2&no_rooms=1&group_children=0&req_children=0&hpos=1&hapos=1&sr_order=popularity&srpvid=3ab66ecb42cd028b&srepoch=1728920728&from_sustainable_property_sr=1&from=searchresults",
         "L’Hotel Vert vous propose des chambres décorées dans des tons pastel, dotées d’une salle de bains privative, d’une télévision ainsi que d’une connexion Wi-Fi gratuite. Il vous accueille à 2 km de l’île intertidale du Mont Saint-Michel, sur la côte normande.\n\nLors de votre séjour, vous pourrez déguster une cuisine régionale au restaurant du Vert, La salicorne. Vous pourrez également apprécier le bar de l'hôtel, L'Equinoxe, qui s'ouvre sur une terrasse privée.\n\nLe Vert Hotel met également à votre disposition une réception ouverte 24h/24 ainsi qu’un parking privé. Vous bénéficierez aussi d’un supermarché et d’une boutique de souvenirs sur place."
        ],
        [
         "1",
         "Mont Saint Michel",
         "Hotel Gabriel",
         "Avec une note de 8",
         "https://www.booking.com/hotel/fr/hotel-gabriel.fr.html?aid=304142&label=gen173bo-1DCAQoggJCGHNlYXJjaF9tb250IHNhaW50IG1pY2hlbEgNWANoTYgBAZgBDbgBF8gBDNgBA-gBAfgBA4gCAZgCAqgCA7gCl_m0uAbAAgHSAiRiNmY4ZjNkNC1hOTBmLTQzNDMtYjI1Ni00ZjQ0ZmQ5MDY1YWLYAgTgAgE&ucfs=1&arphpl=1&group_adults=2&req_adults=2&no_rooms=1&group_children=0&req_children=0&hpos=10&hapos=10&sr_order=popularity&srpvid=3ab66ecb42cd028b&srepoch=1728920728&from_sustainable_property_sr=1&from=searchresults",
         "L’Hotel Gabriel vous accueille à 1,6 km du Mont-Saint-Michel. L’établissement est à seulement 25 minutes à pied des remparts de la vieille ville. Il propose une connexion Wi-Fi gratuite ainsi que des chambres avec salle de bains privative.\n\nAccessibles par des escaliers, les chambres spacieuses de l'hôtel comprennent la télévision par satellite. Chaque hébergement dispose d’une salle de bains pourvue d’une douche.\n\nUn petit-déjeuner buffet est proposé chaque matin.\n\nL’Hotel Gabriel est situé à 6 minutes en voiture de l’autoroute E401. Vous séjournerez également à 7,3 km de la gare TGV de Pontorson, qui dessert Paris.\n\nLa Salicorne vous propose une cuisine internationale authentique, végétale, colorée, festive et écoresponsable. Le Pré Salé sert l'agneau du Pré Salé et une cuisine française semi-gastronomique. Des plats végétariens et locaux vous attendent à l’Hippocampe."
        ],
        [
         "2",
         "Mont Saint Michel",
         "Le Mouton Blanc",
         "Avec une note de 7.2",
         "https://www.booking.com/hotel/fr/le-mouton-blanc-le-mont-saint-michel.fr.html?aid=304142&label=gen173bo-1DCAQoggJCGHNlYXJjaF9tb250IHNhaW50IG1pY2hlbEgNWANoTYgBAZgBDbgBF8gBDNgBA-gBAfgBA4gCAZgCAqgCA7gCl_m0uAbAAgHSAiRiNmY4ZjNkNC1hOTBmLTQzNDMtYjI1Ni00ZjQ0ZmQ5MDY1YWLYAgTgAgE&ucfs=1&arphpl=1&group_adults=2&req_adults=2&no_rooms=1&group_children=0&req_children=0&hpos=9&hapos=9&sr_order=popularity&srpvid=3ab66ecb42cd028b&srepoch=1728920728&from=searchresults",
         "Situé au pied de l’abbaye, l’hôtel Le Mouton Blanc vous accueille dans son bâtiment historique datant du XIVe siècle. Il propose des chambres confortables à la décoration simple et chaleureuse.\n\nLes chambres sont réparties dans 3 bâtiments. L'un d'eux offre une vue sur le Mont-Saint-Michel et un autre comporte des chambres de style médiéval.\n\nLe restaurant du Mouton Blanc sert une cuisine locale traditionnelle dans la salle à manger ou sur la terrasse. Le petit-déjeuner est servi tous les jours.\n\nVous pourrez bénéficier de services personnalisés sur demande pour des visites, des loisirs et d’autres activités.\n\nVeuillez noter que la réception de l'hôtel Le Mouton Blanc est actuellement fermée. Veuillez noter que les modalités d'arrivée se font à la réception de l'hôtel Les Terrasses Poulard."
        ],
        [
         "3",
         "Mont Saint Michel",
         "Auberge Saint Pierre",
         "Avec une note de 8.1",
         "https://www.booking.com/hotel/fr/auberge-saint-pierre.fr.html?aid=304142&label=gen173bo-1DCAQoggJCGHNlYXJjaF9tb250IHNhaW50IG1pY2hlbEgNWANoTYgBAZgBDbgBF8gBDNgBA-gBAfgBA4gCAZgCAqgCA7gCl_m0uAbAAgHSAiRiNmY4ZjNkNC1hOTBmLTQzNDMtYjI1Ni00ZjQ0ZmQ5MDY1YWLYAgTgAgE&ucfs=1&arphpl=1&group_adults=2&req_adults=2&no_rooms=1&group_children=0&req_children=0&hpos=11&hapos=11&sr_order=popularity&srpvid=3ab66ecb42cd028b&srepoch=1728920728&from=searchresults",
         "L'Auberge Saint-Pierre occupe une maison à colombages du XIVe siècle située au Mont-Saint-Michel, une île accessible à marée basse. Elle allie le charme d'époque des poutres apparentes à des éléments de confort moderne comme une télévision et une connexion Wi-Fi gratuite. \n\nLes chambres de l'Auberge Saint Pierre disposent d'une salle de bains privative avec une baignoire ou une douche. Certaines offrent une vue sur la mer. \n\nL'établissement sert un petit-déjeuner buffet tous les matins. Vous pourrez prendre vos repas au restaurant authentique présent sur place qui sert une cuisine normande traditionnelle et des plats de poisson.\n\nInstallé dans la rue principale menant à l'abbaye, cet hôtel constitue un pied-à-terre idéal pour visiter le mont Saint-Michel. Certaines chambres se trouvent dans 2 bâtiments séparés accessibles par de nombreuses marches."
        ],
        [
         "4",
         "Mont Saint Michel",
         "Le Relais Saint Michel",
         "Avec une note de 8",
         "https://www.booking.com/hotel/fr/le-relais-saint-michel.fr.html?aid=304142&label=gen173bo-1DCAQoggJCGHNlYXJjaF9tb250IHNhaW50IG1pY2hlbEgNWANoTYgBAZgBDbgBF8gBDNgBA-gBAfgBA4gCAZgCAqgCA7gCl_m0uAbAAgHSAiRiNmY4ZjNkNC1hOTBmLTQzNDMtYjI1Ni00ZjQ0ZmQ5MDY1YWLYAgTgAgE&ucfs=1&arphpl=1&group_adults=2&req_adults=2&no_rooms=1&group_children=0&req_children=0&hpos=4&hapos=4&sr_order=popularity&srpvid=3ab66ecb42cd028b&srepoch=1728920728&from_sustainable_property_sr=1&from=searchresults",
         "Le Relais Saint Michel vous accueille face à la baie du Mont-Saint-Michel. Les chambres de cet hôtel (à l'exception de la chambre lits jumeaux Saint-Michel avec vue intérieure) possèdent toutes une terrasse privée et certaines vous offrent une vue panoramique sur le Mont-Saint-Michel.\n\nInsonorisées, confortables et spacieuses, les chambres sont dotées d'équipements modernes, dont un minibar et une connexion Wi-Fi gratuite. Leurs salles de bains sont privatives.\n\nLe restaurant de l'hôtel vous servira une cuisine traditionnelle. Lors de votre séjour, vous pourrez prendre un verre ou un repas sur la terrasse qui offre une vue sur le Mont-Saint-Michel.\n\nUn service de navette gratuit s'arrête en face de l'établissement et relie le célèbre Mont-Saint-Michel en seulement 10 minutes. Des gilets de sécurité vous seront proposés si vous souhaitez faire une promenade la nuit. Par ailleurs, si vous arrivez en voiture, vous pourrez profiter d'un espace de stationnement surveillé moyennant des frais supplémentaires."
        ]
       ],
       "shape": {
        "columns": 5,
        "rows": 5
       }
      },
      "text/html": [
       "<div>\n",
       "<style scoped>\n",
       "    .dataframe tbody tr th:only-of-type {\n",
       "        vertical-align: middle;\n",
       "    }\n",
       "\n",
       "    .dataframe tbody tr th {\n",
       "        vertical-align: top;\n",
       "    }\n",
       "\n",
       "    .dataframe thead th {\n",
       "        text-align: right;\n",
       "    }\n",
       "</style>\n",
       "<table border=\"1\" class=\"dataframe\">\n",
       "  <thead>\n",
       "    <tr style=\"text-align: right;\">\n",
       "      <th></th>\n",
       "      <th>villes</th>\n",
       "      <th>Nom hotel</th>\n",
       "      <th>Note</th>\n",
       "      <th>URL</th>\n",
       "      <th>Description</th>\n",
       "    </tr>\n",
       "  </thead>\n",
       "  <tbody>\n",
       "    <tr>\n",
       "      <th>0</th>\n",
       "      <td>Mont Saint Michel</td>\n",
       "      <td>Hôtel Vert</td>\n",
       "      <td>Avec une note de 8</td>\n",
       "      <td>https://www.booking.com/hotel/fr/vert.fr.html?...</td>\n",
       "      <td>L’Hotel Vert vous propose des chambres décorée...</td>\n",
       "    </tr>\n",
       "    <tr>\n",
       "      <th>1</th>\n",
       "      <td>Mont Saint Michel</td>\n",
       "      <td>Hotel Gabriel</td>\n",
       "      <td>Avec une note de 8</td>\n",
       "      <td>https://www.booking.com/hotel/fr/hotel-gabriel...</td>\n",
       "      <td>L’Hotel Gabriel vous accueille à 1,6 km du Mon...</td>\n",
       "    </tr>\n",
       "    <tr>\n",
       "      <th>2</th>\n",
       "      <td>Mont Saint Michel</td>\n",
       "      <td>Le Mouton Blanc</td>\n",
       "      <td>Avec une note de 7.2</td>\n",
       "      <td>https://www.booking.com/hotel/fr/le-mouton-bla...</td>\n",
       "      <td>Situé au pied de l’abbaye, l’hôtel Le Mouton B...</td>\n",
       "    </tr>\n",
       "    <tr>\n",
       "      <th>3</th>\n",
       "      <td>Mont Saint Michel</td>\n",
       "      <td>Auberge Saint Pierre</td>\n",
       "      <td>Avec une note de 8.1</td>\n",
       "      <td>https://www.booking.com/hotel/fr/auberge-saint...</td>\n",
       "      <td>L'Auberge Saint-Pierre occupe une maison à col...</td>\n",
       "    </tr>\n",
       "    <tr>\n",
       "      <th>4</th>\n",
       "      <td>Mont Saint Michel</td>\n",
       "      <td>Le Relais Saint Michel</td>\n",
       "      <td>Avec une note de 8</td>\n",
       "      <td>https://www.booking.com/hotel/fr/le-relais-sai...</td>\n",
       "      <td>Le Relais Saint Michel vous accueille face à l...</td>\n",
       "    </tr>\n",
       "  </tbody>\n",
       "</table>\n",
       "</div>"
      ],
      "text/plain": [
       "              villes               Nom hotel                  Note  \\\n",
       "0  Mont Saint Michel              Hôtel Vert    Avec une note de 8   \n",
       "1  Mont Saint Michel           Hotel Gabriel    Avec une note de 8   \n",
       "2  Mont Saint Michel         Le Mouton Blanc  Avec une note de 7.2   \n",
       "3  Mont Saint Michel    Auberge Saint Pierre  Avec une note de 8.1   \n",
       "4  Mont Saint Michel  Le Relais Saint Michel    Avec une note de 8   \n",
       "\n",
       "                                                 URL  \\\n",
       "0  https://www.booking.com/hotel/fr/vert.fr.html?...   \n",
       "1  https://www.booking.com/hotel/fr/hotel-gabriel...   \n",
       "2  https://www.booking.com/hotel/fr/le-mouton-bla...   \n",
       "3  https://www.booking.com/hotel/fr/auberge-saint...   \n",
       "4  https://www.booking.com/hotel/fr/le-relais-sai...   \n",
       "\n",
       "                                         Description  \n",
       "0  L’Hotel Vert vous propose des chambres décorée...  \n",
       "1  L’Hotel Gabriel vous accueille à 1,6 km du Mon...  \n",
       "2  Situé au pied de l’abbaye, l’hôtel Le Mouton B...  \n",
       "3  L'Auberge Saint-Pierre occupe une maison à col...  \n",
       "4  Le Relais Saint Michel vous accueille face à l...  "
      ]
     },
     "execution_count": 49,
     "metadata": {},
     "output_type": "execute_result"
    }
   ],
   "source": [
    "listing_hotels.head()"
   ]
  },
  {
   "cell_type": "markdown",
   "metadata": {},
   "source": [
    "Saving the hotels dataframe in a csv file which contains the data of the city name, hotel name, rating, URL and description."
   ]
  },
  {
   "cell_type": "code",
   "execution_count": 119,
   "metadata": {},
   "outputs": [],
   "source": [
    "listing_hotels.to_csv(rf'hotels.csv', index=False, sep=';', encoding='utf-8')"
   ]
  }
 ],
 "metadata": {
  "kernelspec": {
   "display_name": "Python 3",
   "language": "python",
   "name": "python3"
  },
  "language_info": {
   "codemirror_mode": {
    "name": "ipython",
    "version": 3
   },
   "file_extension": ".py",
   "mimetype": "text/x-python",
   "name": "python",
   "nbconvert_exporter": "python",
   "pygments_lexer": "ipython3",
   "version": "3.12.4"
  }
 },
 "nbformat": 4,
 "nbformat_minor": 2
}
